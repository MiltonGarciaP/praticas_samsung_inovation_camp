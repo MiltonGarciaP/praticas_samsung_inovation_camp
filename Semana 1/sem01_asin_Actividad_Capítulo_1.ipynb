{
 "cells": [
  {
   "cell_type": "markdown",
   "id": "f34adb44",
   "metadata": {
    "id": "f34adb44"
   },
   "source": [
    "# Actividades Capítulo 1.\n",
    "\n",
    "\n",
    "# Concepto básico de programación e inicio en Python\n",
    "\n",
    "## Resumen de actividades\n",
    "\n",
    "- **Unidad 1**: Programación secuencial\n",
    "- **Unidad 2**: Planificación de la programación\n",
    "- **Unidad 3**: Fundamentos de los tipos de datos numéricos y operaciones aritméticas\n",
    "- **Unidad 4**: Variables e insumos\n",
    "- **Unidad 5**: Operaciones lógicas y de comparación\n",
    "- **Unidad 6**: Enunciado condicional-1: Condiciones y toma de decisiones\n",
    "- **Unidad 7**: Enunciado condicional-2: Tomar decisiones en dos direcciones y aplicar enunciados condicionales\n",
    "- **Unidad 8**: Bucle-1\n",
    "- **Unidad 9**: Bucle-2\n"
   ]
  },
  {
   "cell_type": "markdown",
   "id": "ac1e9b02",
   "metadata": {
    "id": "ac1e9b02"
   },
   "source": [
    "# Actividad: Concepto de algoritmo.\n",
    "\n",
    "Escriva son sus propias palabras el concepto que tiene de algoritmo.\n",
    "\n",
    "**Respuesta:**\n",
    "\n",
    "\n",
    "\n",
    "\n",
    "**Algoritmos cotidiano**\n",
    "Escriba con detalles algún algoritmo que usted haya desarrollado continuamente durante sus actividades diarias.\n",
    "    \n",
    "- 1-Algoritmo Cotidiano: Preparación de un Sándwich:\n",
    "\n",
    "Ingredientes:\n",
    "\n",
    "Pan\n",
    "Jamón\n",
    "Queso\n",
    "Lechuga\n",
    "Tomate\n",
    "Mayonesa y/o mostaza (opcional)\n",
    "\n",
    "Pasos:\n",
    "\n",
    "Asegurarse de tener todos los ingredientes a mano.\n",
    "Colocar dos rebanadas de pan en una superficie limpia.\n",
    "Colocar una rebanada de jamón sobre una de las rebanadas de pan.\n",
    "Agregar una capa de queso sobre el jamón.\n",
    "Opcional: Agregar mayonesa y/o mostaza según el gusto.\n",
    "Colocar la otra rebanada de pan encima.\n",
    "Presionar ligeramente para asegurar el sándwich.\n",
    "¡Listo!\n",
    "\n",
    "- 2-Preparación de Café:\n",
    "\n",
    "Ingredientes:\n",
    "\n",
    "Café molido\n",
    "Agua\n",
    "Azúcar y/o leche (opcional)\n",
    "\n",
    "Pasos:\n",
    "\n",
    "Asegurarse de tener una taza limpia disponible.\n",
    "Medir la cantidad deseada de café molido.\n",
    "Calentar la cantidad adecuada de agua.\n",
    "Agregar el café molido al filtro de la cafetera.\n",
    "Verter el agua caliente en el depósito de la cafetera.\n",
    "Iniciar la cafetera para que el agua pase a través del café.\n",
    "Esperar a que la cafetera termine el proceso.\n",
    "Opcional: Agregar azúcar y/o leche según el gusto.\n",
    "Revolver si es necesario.\n",
    "¡Listo!\n",
    "\n",
    "- 3- Preparación de la Cama antes de Dormir:\n",
    "\n",
    "Retirar cojines decorativos y almohadas de la cama.\n",
    "\n",
    "\n",
    "Estirar las sábanas y la colcha para alisar cualquier arruga.\n",
    "\n",
    "\n",
    "Alinear las almohadas contra el cabecero de la cama.\n",
    "\n",
    "\n",
    "Doblar cuidadosamente el cobertor o edredón y colocarlo en la parte inferior de la cama.\n",
    "\n",
    "Ajustar las sábanas laterales para que estén estiradas y bien colocadas.\n",
    "\n",
    "Ajustar y alinear las fundas de las almohadas.\n",
    "\n",
    "\n",
    "Preparar la Cama para Dormir\n",
    "\n",
    "Colocar la sabana .\n",
    "Apagar Luces y Listo para Dormir\n",
    "\n"
   ]
  },
  {
   "cell_type": "markdown",
   "id": "0da9ca7e",
   "metadata": {
    "id": "0da9ca7e"
   },
   "source": [
    "# Actividad: Programación secuencial.\n",
    "\n",
    "A continuación nombre las 3 estructuras básicas de programación.\n",
    "\n",
    "Espacio para respuestas:\n",
    "    \n",
    "- 1- Secuencia\n",
    "- 2- Selección o condicional\n",
    "- 3- Iteración (ciclo o bucle)\n",
    "\n"
   ]
  },
  {
   "cell_type": "markdown",
   "id": "4b761414",
   "metadata": {
    "id": "4b761414"
   },
   "source": [
    "# Actividad: Revise y escriba los comandos utilizados para crear y activar\n",
    "\n",
    "# un entorno virtual.\n",
    "\n",
    "Escriba el comando usado para crear un entorno virtual, agrege un comentaria sobre su funcionamiento al aldo del comando.\n",
    "\n",
    "**Lista de Comandos:**\n",
    "\n",
    "python -m venv Milton_entorno\n",
    "\n",
    "\n",
    "Enumere algunas de las ventajas de usar un entorno virtual.\n",
    "\n",
    "\n",
    "1. Aislamiento de Dependencias: Permite tener entornos de desarrollo aislados, evitando conflictos entre versiones de bibliotecas y paquetes.\n",
    "\n",
    "2. Facilita la Gestión de Dependencias: Permite instalar y gestionar versiones específicas de bibliotecas y paquetes para cada proyecto.\n",
    "\n",
    "3. Reproducibilidad: Facilita la reproducibilidad del entorno de desarrollo en diferentes máquinas, asegurando que todas las dependencias necesarias estén disponibles."
   ]
  },
  {
   "cell_type": "markdown",
   "id": "49829fb9",
   "metadata": {
    "id": "49829fb9"
   },
   "source": [
    "# Tipos de datos numéricos y operaciones matemáticas.\n",
    "\n",
    "Ejecuta el código de la siguiente celda, verifica el tipo de dato retornado en cada una de las asignaciones, para ello use el comando type(variable) en combinacion con el comando print()\n",
    "\n"
   ]
  },
  {
   "cell_type": "code",
   "execution_count": null,
   "id": "96922b41",
   "metadata": {
    "id": "96922b41"
   },
   "outputs": [],
   "source": [
    "texto = 'Hola! bienvenido al mundo de la programación'\n",
    "    print(type(texto))\n",
    "\n",
    "    entero = 4\n",
    "    print(type(entero))\n",
    "\n",
    "    valor_flotante = 3.4\n",
    "    print(type(valor_flotante))\n",
    "\n",
    "    ejemplo_de_lista = [1, 2, 3, 4, 4]\n",
    "    print(type(ejemplo_de_lista))\n",
    "\n",
    "    ejemplo_de_diccionario = {'name': 'Jhon Doe', 'edge': 64}\n",
    "    print(type(ejemplo_de_diccionario))\n",
    "\n",
    "<class 'str'>\n",
    "<class 'int'>\n",
    "<class 'float'>\n",
    "<class 'list'>\n",
    "<class 'dict'>\n",
    "    \n",
    "    \n"
   ]
  },
  {
   "cell_type": "markdown",
   "id": "c718ddbf",
   "metadata": {
    "id": "c718ddbf"
   },
   "source": [
    "### **Actividad: Operaciones Matemáticas en Python**\n",
    "\n",
    "En esta actividad, realizarás operaciones matemáticas básicas en Python.\n",
    "\n",
    "#### **Instrucciones:**\n",
    "\n",
    "1. Crea una variable `numero1` y asígnale un número entero.\n",
    "2. Crea una variable `numero2` y asígnale otro número entero.\n",
    "3. Suma los valores de `numero1` y `numero2`, y almacena el resultado en una variable llamada `suma`.\n",
    "4. Resta `numero2` de `numero1` y almacena el resultado en una variable llamada `resta`.\n",
    "5. Multiplica `numero1` y `numero2`, y almacena el resultado en una variable llamada `multiplicacion`.\n",
    "6. Divide `numero1` entre `numero2` y almacena el resultado en una variable llamada `division`.\n",
    "\n",
    "Completa el código en Python con las operaciones y luego imprime los valores de `suma`, `resta`, `multiplicacion`, y `division`."
   ]
  },
  {
   "cell_type": "code",
   "execution_count": null,
   "id": "71ff6ca5",
   "metadata": {
    "id": "71ff6ca5"
   },
   "outputs": [],
   "source": [
    "# Desarrolla el código en la siguiente celda.\n",
    "    numero1 = 10\n",
    "    numero2 = 5\n",
    "\n",
    "\n",
    "    suma = numero1 + numero2\n",
    "    resta = numero1 - numero2\n",
    "    multiplicacion = numero1 * numero2\n",
    "    division = numero1 / numero2\n",
    "\n",
    "\n",
    "    \n",
    "    print(\"Suma:\", suma)\n",
    "    print(\"Resta:\", resta)\n",
    "    print(\"Multiplicación:\", multiplicacion)\n",
    "    print(\"División:\", division)\n",
    "\n",
    "\n",
    "\n",
    "\n",
    "\n",
    "\n",
    "\n",
    "\n",
    "\n",
    "\n"
   ]
  },
  {
   "cell_type": "markdown",
   "id": "5a0d7513",
   "metadata": {
    "id": "5a0d7513"
   },
   "source": [
    "# Resumen de los operadores lógicos usados en Python.\n",
    "\n",
    "\n",
    "\n",
    "\n",
    "| **Operador** | **Descripción**                        |\n",
    "|:------------:|:--------------------------------------:|\n",
    "|    `and`     | <span style=\"font-size:larger\">Devuelve True si ambos operandos son True.</span> |\n",
    "|     `or`     | <span style=\"font-size:larger\">Devuelve True si al menos uno de los operandos es True.</span> |\n",
    "|    `not`     | <span style=\"font-size:larger\">Invierte el valor del operando; True se convierte en False y viceversa.</span> |\n"
   ]
  },
  {
   "cell_type": "code",
   "execution_count": null,
   "id": "978c0b04",
   "metadata": {
    "id": "978c0b04"
   },
   "outputs": [],
   "source": [
    "s = 1\n",
    "m = 0\n",
    "\n",
    "print(s and m)\n",
    "print(s or m)\n",
    "print(not s)\n",
    "print(not m)"
   ]
  },
  {
   "cell_type": "markdown",
   "id": "3db9e2cb",
   "metadata": {
    "id": "3db9e2cb"
   },
   "source": [
    "<!DOCTYPE html>\n",
    "<html>\n",
    "<head>\n",
    "<style>\n",
    "  table {\n",
    "    font-size: 24px;\n",
    "  }\n",
    "  th, td {\n",
    "    padding: 10px;\n",
    "    text-align: center;\n",
    "  }\n",
    "</style>\n",
    "</head>\n",
    "<body>\n",
    "  <h2>Comparadores Lógicos en Python</h2>\n",
    "  <table>\n",
    "    <tr>\n",
    "      <th><b>Comparadores</b></th>\n",
    "      <th><b>Descripción</b></th>\n",
    "    </tr>\n",
    "    <tr>\n",
    "      <td>==</td>\n",
    "      <td>Igual a (compara si dos valores son iguales)</td>\n",
    "    </tr>\n",
    "    <tr>\n",
    "      <td>!=</td>\n",
    "      <td>Diferente de (compara si dos valores son distintos)</td>\n",
    "    </tr>\n",
    "    <tr>\n",
    "      <td>&lt;</td>\n",
    "      <td>Menor que (compara si un valor es menor que otro)</td>\n",
    "    </tr>\n",
    "    <tr>\n",
    "      <td>&gt;</td>\n",
    "      <td>Mayor que (compara si un valor es mayor que otro)</td>\n",
    "    </tr>\n",
    "    <tr>\n",
    "      <td>&lt;=</td>\n",
    "      <td>Menor o igual que (compara si un valor es menor o igual que otro)</td>\n",
    "    </tr>\n",
    "    <tr>\n",
    "      <td>&gt;=</td>\n",
    "      <td>Mayor o igual que (compara si un valor es mayor o igual que otro)</td>\n",
    "    </tr>\n",
    "  </table>\n",
    "</body>\n",
    "</html>\n"
   ]
  },
  {
   "cell_type": "markdown",
   "id": "1de5a5f0",
   "metadata": {
    "id": "1de5a5f0"
   },
   "source": [
    "### **Actividad: Uso de operadores**\n",
    "\n",
    "En esta actividad, usaras los operadores\n",
    "\n",
    "#### **Instrucciones:**\n",
    "\n",
    "1. Generar un loop que revise cada uno de los elementos contenidos en la lista llamada \"lista_de_elementos\".\n",
    "2. Revisar el tipo de elemento.\n",
    "3. Comparar si el valor esta por debajo del umbral definido, en ese caso imprimir la palabra ¨aprobado¨ en caso contrario imprimir ¨Rechazado¨\n",
    "4. En el código incluya dos contadores, para contabilizar el número de aprobados y rechazados, al final del codigo imprima el total de cada uno de ellos.\n",
    "5. Contabilize los elementos que son tipo string y de igual forma imprima final del loop el resultado.\n"
   ]
  },
  {
   "cell_type": "code",
   "execution_count": null,
   "id": "89eafba9",
   "metadata": {
    "id": "89eafba9"
   },
   "outputs": [],
   "source": [
    "  umbral = -10\n",
    "\n",
    "\n",
    "    lista_de_elementos = [10, 3.14, \"7\", -5, \"2.718\", 42, \"Python\", -8.9, \"Hola\", 100.5, \"Mundo\", -15, \"GPT-3\", 5.5,\n",
    "                          \"AI\", -20, \"2023\", 123, \"OpenAI\", -2.5, \"Ejemplo\"]\n",
    "\n",
    "\n",
    "    aprobados = 0\n",
    "    rechazados = 0\n",
    "    conteo_strings = 0\n",
    "\n",
    "\n",
    "    for elemento in lista_de_elementos:\n",
    "\n",
    "        tipo_elemento = type(elemento)\n",
    "\n",
    "        \n",
    "        if tipo_elemento == int or tipo_elemento == float:\n",
    "            if elemento < umbral:\n",
    "                print(\"Aprobado\")\n",
    "                aprobados += 1\n",
    "            else:\n",
    "                print(\"Rechazado\")\n",
    "                rechazados += 1\n",
    "        elif tipo_elemento == str:\n",
    "            conteo_strings += 1\n",
    "        else:\n",
    "            print(\"Tipo no reconocido\")\n",
    "\n",
    "\n",
    "    print(\"Total aprobados:\", aprobados)\n",
    "    print(\"Total rechazados:\", rechazados)\n",
    "    print(\"Total de strings:\", conteo_strings)\n",
    "\n"
   ]
  }
 ],
 "metadata": {
  "colab": {
   "provenance": []
  },
  "kernelspec": {
   "display_name": "Python 3 (ipykernel)",
   "language": "python",
   "name": "python3"
  },
  "language_info": {
   "codemirror_mode": {
    "name": "ipython",
    "version": 3
   },
   "file_extension": ".py",
   "mimetype": "text/x-python",
   "name": "python",
   "nbconvert_exporter": "python",
   "pygments_lexer": "ipython3",
   "version": "3.11.5"
  }
 },
 "nbformat": 4,
 "nbformat_minor": 5
}
