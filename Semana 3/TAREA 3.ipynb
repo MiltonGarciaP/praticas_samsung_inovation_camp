{
 "cells": [
  {
   "cell_type": "markdown",
   "id": "5ad8356f",
   "metadata": {},
   "source": [
    "# Coding and Programming\n",
    "\n",
    "## Capítulo 3\n",
    "\n",
    "### Función, clausura y clase\n",
    "\n",
    "- **Unidad 17.** Función\n",
    "- **Unidad 18.** Llamada a la función de recurrencia.\n",
    "- **Unidad 19.** Lambda\n",
    "- **Unidad 20.** Clausura\n",
    "- **Unidad 21.** Clase\n",
    "\n",
    "# Quiz 3"
   ]
  },
  {
   "cell_type": "markdown",
   "id": "a94ec368",
   "metadata": {},
   "source": [
    "___"
   ]
  },
  {
   "cell_type": "markdown",
   "id": "a11871f3",
   "metadata": {},
   "source": [
    "## Q 17-01\n",
    "\n",
    "Reciba las coordenadas `(x1, y1), (x2, y2)` de dos puntos del usuario e imprima la distancia entre los dos puntos de la siguiente manera. Para hacer esto, implemente la función `distancia(x1, y1, x2, y2)`.\n",
    "\n",
    "\n",
    "**Pauta de código:** consulte la fórmula para encontrar la distancia entre dos puntos.\n"
   ]
  },
  {
   "cell_type": "markdown",
   "id": "19848cf5",
   "metadata": {},
   "source": [
    "\n",
    "def print_hi(name):\n",
    "    import math\n",
    "\n",
    "    def distancia(x1, y1, x2, y2):\n",
    "        return math.sqrt((x2 - x1) ** 2 + (y2 - y1) ** 2)\n",
    "\n",
    "    x1 = float(input(\"Ingrese la coordenada x del primer punto: \"))\n",
    "    y1 = float(input(\"Ingrese la coordenada y del primer punto: \"))\n",
    "\n",
    "\n",
    "    x2 = float(input(\"Ingrese la coordenada x del segundo punto: \"))\n",
    "    y2 = float(input(\"Ingrese la coordenada y del segundo punto: \"))\n",
    "\n",
    "\n",
    "    distancia_entre_puntos = distancia(x1, y1, x2, y2)\n",
    "\n",
    "\n",
    "    print(f\"La distancia entre los puntos ({x1}, {y1}) y ({x2}, {y2}) es: {distancia_entre_puntos}\")\n",
    "\n",
    "if __name__ == '__main__':\n",
    "    print_hi('PyCharm')"
   ]
  },
  {
   "cell_type": "markdown",
   "id": "a207d974",
   "metadata": {},
   "source": [
    "## Q 18-01\n",
    "\n",
    "Un palíndromo es una oración, palabra o cadena que es lo mismo que leer cualquier carácter de forma consecutiva.\n",
    "\n",
    "Por ejemplo, hay palabras como level, kayak, salas, somos, radar, reconocer.\n",
    "\n",
    "Usemos una llamada recursiva para determinar el palíndromo.\n",
    "\n",
    "Defina una función llamada `is_palindrome` y escriba un programa que reciba una cadena del usuario e imprima si el palindrome es correcto o no.\n",
    "\n",
    "**Pauta de código:** Llame a la función `is_palindrome` dentro de la función `is_palindrome`"
   ]
  },
  {
   "cell_type": "markdown",
   "id": "d7825109",
   "metadata": {},
   "source": [
    "\n",
    "def print_hi(name):\n",
    "    def is_palindrome(cadena):\n",
    "        \n",
    "        cadena = cadena.replace(\" \", \"\").lower()\n",
    "\n",
    "    \n",
    "        def is_palindrome_recursivo(cadena):\n",
    "            if len(cadena) <= 1:\n",
    "                return True\n",
    "            elif cadena[0] == cadena[-1]:\n",
    "                return is_palindrome_recursivo(cadena[1:-1])\n",
    "            else:\n",
    "                return False\n",
    "\n",
    "        return is_palindrome_recursivo(cadena)\n",
    "\n",
    "\n",
    "    entrada_usuario = input(\"Ingrese una palabra o frase para verificar si es un palíndromo: \")\n",
    "\n",
    "\n",
    "    if is_palindrome(entrada_usuario):\n",
    "        print(f\"{entrada_usuario} es un palíndromo.\")\n",
    "    else:\n",
    "        print(f\"{entrada_usuario} no es un palíndromo.\")\n",
    "\n",
    "if __name__ == '__main__':\n",
    "    print_hi('PyCharm')"
   ]
  },
  {
   "cell_type": "markdown",
   "id": "fbfb4985",
   "metadata": {},
   "source": [
    "## Q 19-01\n",
    "\n",
    "\n",
    "Después de poner una lista llamada `n_list` con valores de `[10, 20, 30]` en la función `map`.\n",
    "\n",
    "```\n",
    "n_list = [10,20,30]\n",
    "twice  = list(map(lambda x: x*2, n_list))\n",
    "triple = list(map(lambda x: x*3, n_list))\n",
    "```\n",
    "\n",
    "Indique el contenido de las variables `twice` y `triple`."
   ]
  },
  {
   "cell_type": "markdown",
   "id": "2cdc7344",
   "metadata": {},
   "source": [
    "def print_hi(name):\n",
    "    n_list = [10, 20, 30]\n",
    "\n",
    "    # Aplicar la función lambda para duplicar cada elemento\n",
    "    twice = list(map(lambda x: x * 2, n_list))\n",
    "\n",
    "    # Aplicar la función lambda para triplicar cada elemento\n",
    "    triple = list(map(lambda x: x * 3, n_list))\n",
    "\n",
    "    print(\"Contenido de 'twice':\", twice)\n",
    "    print(\"Contenido de 'triple':\", triple)\n",
    "\n",
    "\n",
    "if __name__ == '__main__':\n",
    "    print_hi('PyCharm')"
   ]
  },
  {
   "cell_type": "markdown",
   "id": "98938d2d",
   "metadata": {},
   "source": [
    "## Q 20-01\n",
    "\n",
    "En el siguiente código, espere qué valor se incluye finalmente en `num_list`. Calcule el resultado esperado a mano.\n",
    "\n",
    "**Pauta de codificación:** Escriba 5 veces la declaración `for`. Espere este resultado y envíe el resultado.\n",
    "\n",
    "```\n",
    "def calc_digit(n):\n",
    "    def findal(digit):\n",
    "        return digit**n\n",
    "    return final\n",
    "\n",
    "num_list = []\n",
    "for num in range(1,6):\n",
    "    num_list.append( calc_digit(num) )\n",
    "    print( num_list[num-1](num) )\n",
    "```"
   ]
  },
  {
   "cell_type": "markdown",
   "id": "fcde558f",
   "metadata": {},
   "source": [
    "def print_hi(name):\n",
    "    def calc_digit(n):\n",
    "        def final(digit):\n",
    "            return digit ** n\n",
    "\n",
    "        return final\n",
    "\n",
    "    num_list = []\n",
    "    for num in range(1, 6):\n",
    "        num_list.append(calc_digit(num))\n",
    "        print(num_list[num - 1](num))\n",
    "\n",
    "if __name__ == '__main__':\n",
    "    print_hi('PyCharm')"
   ]
  },
  {
   "cell_type": "markdown",
   "id": "d3ece88b",
   "metadata": {},
   "source": [
    "## Q 21-01\n",
    "\n",
    "Implemente las funciones de multiplicación (*) y división (/) de dos vectores usando los métodos `mul` y `truediv` aprendidos en la **unidad 21**. Suponiendo que `v1` es `(30, 40)` y `v2` es `(10, 20)`, codifique (escriba la declaración de salida) para devolver el siguiente resultado como resultado de la multiplicación y división de dos vectores.\n",
    "\n",
    "\n",
    "**Pauta de codificación:** escriba código que amplíe la funcionalidad de la clase `Vector2D` que aprendió en este capítulo."
   ]
  },
  {
   "cell_type": "markdown",
   "id": "1d58d47c",
   "metadata": {},
   "source": [
    "def print_hi(name):\n",
    "    class Vector2D:\n",
    "        def __init__(self, x, y):\n",
    "            self.x = x\n",
    "            self.y = y\n",
    "\n",
    "        def __mul__(self, other):\n",
    "            if isinstance(other, Vector2D):\n",
    "                return Vector2D(self.x * other.x, self.y * other.y)\n",
    "            else:\n",
    "                return Vector2D(self.x * other, self.y * other)\n",
    "\n",
    "        def __truediv__(self, other):\n",
    "            if isinstance(other, Vector2D):\n",
    "                return Vector2D(self.x / other.x, self.y / other.y)\n",
    "            else:\n",
    "                return Vector2D(self.x / other, self.y / other)\n",
    "\n",
    "        def __str__(self):\n",
    "            return f\"({self.x}, {self.y})\"\n",
    "\n",
    "    # Ejemplo de uso\n",
    "    v1 = Vector2D(30, 40)\n",
    "    v2 = Vector2D(10, 20)\n",
    "\n",
    "    # Multiplicación de vectores\n",
    "    resultado_multiplicacion = v1 * v2\n",
    "    print(f\"Multiplicación: {resultado_multiplicacion}\")\n",
    "\n",
    "    # División de vectores\n",
    "    resultado_division = v1 / v2\n",
    "    print(f\"División: {resultado_division}\")\n",
    "\n",
    "\n",
    "if __name__ == '__main__':\n",
    "    print_hi('PyCharm')"
   ]
  },
  {
   "cell_type": "markdown",
   "id": "2717ce09",
   "metadata": {},
   "source": [
    "___"
   ]
  },
  {
   "cell_type": "markdown",
   "id": "10514335",
   "metadata": {},
   "source": [
    "# Fin"
   ]
  }
 ],
 "metadata": {
  "kernelspec": {
   "display_name": "Python 3 (ipykernel)",
   "language": "python",
   "name": "python3"
  },
  "language_info": {
   "codemirror_mode": {
    "name": "ipython",
    "version": 3
   },
   "file_extension": ".py",
   "mimetype": "text/x-python",
   "name": "python",
   "nbconvert_exporter": "python",
   "pygments_lexer": "ipython3",
   "version": "3.11.5"
  }
 },
 "nbformat": 4,
 "nbformat_minor": 5
}
