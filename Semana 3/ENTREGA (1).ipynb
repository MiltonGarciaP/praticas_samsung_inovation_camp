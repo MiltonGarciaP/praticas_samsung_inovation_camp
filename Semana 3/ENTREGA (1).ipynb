{
 "cells": [
  {
   "cell_type": "markdown",
   "id": "5ad8356f",
   "metadata": {},
   "source": [
    "# Actividades Capítulo 3.\n",
    "\n",
    "\n",
    "# Concepto básico de programación e inicio en Python\n",
    "\n",
    "## Resumen de actividades\n",
    "\n",
    "\n",
    "- **Unidad 17.** Función\n",
    "- **Unidad 18.** Llamada a la función de recurrencia.\n",
    "- **Unidad 19.** Lambda\n",
    "- **Unidad 20.** Clausura\n",
    "- **Unidad 21.** Clase\n"
   ]
  },
  {
   "cell_type": "markdown",
   "id": "8c5aa9c8",
   "metadata": {},
   "source": [
    "# Actividad: Creacion de funciones.\n",
    "\n",
    "\n",
    "## Instrucciones\n",
    "\n",
    "1. Defina en forma breve el concepto de función.\n",
    "\n",
    "2. Crear una función para realizar la suma de los números impares en el rango de 0 a 100, dentro de la función imprima los valores sumados y al final retorne el resultado de la sumatoria.\n"
   ]
  },
  {
   "cell_type": "code",
   "execution_count": 1,
   "id": "90cd2e33",
   "metadata": {},
   "outputs": [
    {
     "name": "stdout",
     "output_type": "stream",
     "text": [
      "1 3 5 7 9 11 13 15 17 19 21 23 25 27 29 31 33 35 37 39 41 43 45 47 49 51 53 55 57 59 61 63 65 67 69 71 73 75 77 79 81 83 85 87 89 91 93 95 97 99 \n",
      "Suma total: 2500\n",
      "Resultado final: 2500\n"
     ]
    }
   ],
   "source": [
    "\"\"\"\n",
    "Una función es una relación entre un conjunto de inputs (o entradas) y un conjunto de outputs (o salidas), de manera que a cada input le corresponde \n",
    "un único output. En matemáticas, una función se denota comúnmente como f(x), donde \"x\" es la variable de entrada.\n",
    "\"\"\"\n",
    "\n",
    "def suma_impares():\n",
    "    suma = 0\n",
    "    for numero in range(1, 101, 2): \n",
    "        suma += numero\n",
    "        print(numero, end=\" \")  \n",
    "\n",
    "    print(\"\\nSuma total:\", suma)\n",
    "    return suma\n",
    "\n",
    "\n",
    "resultado = suma_impares()\n",
    "print(\"Resultado final:\", resultado)\n",
    "\n",
    "\n",
    "\n",
    "\n",
    "\n",
    "\n",
    "\n",
    "\n",
    "\n",
    "\n"
   ]
  },
  {
   "cell_type": "markdown",
   "id": "a11871f3",
   "metadata": {},
   "source": [
    "# Actividad: Diseñe una función para codificar strings y otra para decodificar strings.\n",
    "\n",
    "1. Revise documentación relacionada a los procesos de encriptación, explique brevemente como funcionan.\n",
    "2. Ambas funciones deben tener como entrada un string y una ¨Clave\", la ¨Clave¨ será usada para codificar y decodificar.\n",
    "3. El desarrollo de está actividad esta abierto a multiples soluciones, por favor sea original en su respuesta.\n"
   ]
  },
  {
   "cell_type": "code",
   "execution_count": 1,
   "id": "1e7a5371",
   "metadata": {},
   "outputs": [],
   "source": [
    "# Espacio para desarrollar la actividad, si tienes alguna duda o comentario adicional\n",
    "# lo puedes dejar planteado acá.\n",
    "\n",
    "\n",
    "\n",
    "\n",
    "\n",
    "\n",
    "\n",
    "\n",
    "\n"
   ]
  },
  {
   "cell_type": "markdown",
   "id": "a207d974",
   "metadata": {},
   "source": [
    "\n",
    "# Actividad: Diseñe y codifique una función.\n",
    "\n",
    "1. Diseñe una función que revise el contenido de una carpeta, la mision de esta funcion es revisar todas las carpetas existentes y obtener los nommbres de los archivos contenidos.\n",
    "2. Considere que dentro de cada carpete pueden existir otras carpetas.\n",
    "3. Todas las carpetas deben ser revisadas.\n",
    "4. Con la ejecucion de la siguiente celda se crearan las carpetas y los archivos.\n",
    "5. Es posible que debas considerar el uso de una función recursiva."
   ]
  },
  {
   "cell_type": "code",
   "execution_count": 7,
   "id": "b4ac1d5a",
   "metadata": {},
   "outputs": [
    {
     "name": "stdout",
     "output_type": "stream",
     "text": [
      "Carpeta_principal\n",
      "Carpeta_principal/folder_0\n",
      "Carpeta_principal/folder_4\n",
      "Carpeta_principal/folder_5\n",
      "Carpeta_principal/folder_10\n",
      "Carpeta_principal\\folder_0\n",
      "Carpeta_principal\\folder_10\n",
      "Carpeta_principal\\folder_10/folder_0\n",
      "Carpeta_principal\\folder_10\\folder_0\n",
      "Carpeta_principal\\folder_10\\folder_0/folder_3\n",
      "Carpeta_principal\\folder_10\\folder_0\\folder_3\n",
      "Carpeta_principal\\folder_4\n",
      "Carpeta_principal\\folder_5\n"
     ]
    }
   ],
   "source": [
    "import os\n",
    "import random\n",
    "\n",
    "def guardar_archivo(text_content, file_path):\n",
    "    with open(file_path, 'w') as file:\n",
    "        # Write the text content to the file\n",
    "        file.write(text_content)\n",
    "\n",
    "\n",
    "if os.path.exists(\"Carpeta_principal\"):\n",
    "    os.system(f'rm -r \"Carpeta_principal\"')\n",
    "\n",
    "os.mkdir(\"Carpeta_principal\")\n",
    "# Inicialización\n",
    "\n",
    "\n",
    "\n",
    "def crear_carpetas(ruta_actual):\n",
    "    global numeracion_del_archivo, numero_de_sub_carpetas\n",
    "    numero_de_archivos_o_carpetas = random.randint(0,15) # genración de numero aleatorio entre 0 y 15.\n",
    "    print(ruta_actual)\n",
    "    if numero_de_sub_carpetas < max_carpetas:\n",
    "        for n in range(0, numero_de_archivos_o_carpetas):\n",
    "\n",
    "            numero_aleatorio_2 = random.randint(0,2) # número aleatoria entre 0 y 1.\n",
    "            if numero_aleatorio_2 == 0:\n",
    "                os.mkdir(ruta_actual +'/'+ 'folder_{}'.format(n) )\n",
    "                print(ruta_actual +'/'+ 'folder_{}'.format(n))\n",
    "            else:\n",
    "                contenido_del_archivo = \"Contenido_{}\".format(numeracion_del_archivo)                \n",
    "                ruta_del_archivo = ruta_actual + '/' + \"archivo_{}.text\".format(numeracion_del_archivo)\n",
    "#                 print(\"ruta_del_archivo: \", ruta_del_archivo)\n",
    "                guardar_archi# Función que duplica un valor\n",
    "def duplicar(valor):\n",
    "    return valor * 2\n",
    "\n",
    "# Lista de números\n",
    "numeros = [1, 2, 3, 4, 5]\n",
    "\n",
    "# Uso de map para duplicar cada elemento en la lista\n",
    "resultado_map = map(duplicar, numeros)\n",
    "\n",
    "# Convertir el resultado a una lista para visualización\n",
    "resultado_lista = list(resultado_map)\n",
    "\n",
    "# Imprimir el resultado\n",
    "print(\"Lista Original:\", numeros)\n",
    "print(\"Resultado Duplicado:\", resultado_lista)\n",
    "vo(contenido_del_archivo, ruta_del_archivo)\n",
    "                numeracion_del_archivo += 1\n",
    "                \n",
    "        lista_de_nuevas_carpetas = [f.path for f in os.scandir(ruta_actual) if f.is_dir()] # Busqueda de nueva carpeta\n",
    "\n",
    "        numero_de_sub_carpetas += 1\n",
    "        for carpeta in lista_de_nuevas_carpetas:\n",
    "            crear_carpetas(carpeta)\n",
    "        \n",
    "max_carpetas = 4\n",
    "numeracion_del_archivo = 0\n",
    "numero_de_sub_carpetas = 0\n",
    "ruta_actual = \"Carpeta_principal\"\n",
    "crear_carpetas(ruta_actual)\n",
    "\n"
   ]
  },
  {
   "cell_type": "code",
   "execution_count": 9,
   "id": "a4f925a4",
   "metadata": {},
   "outputs": [
    {
     "name": "stdout",
     "output_type": "stream",
     "text": [
      "Archivo: archivo_0.text\n",
      "Archivo: archivo_1.text\n",
      "Archivo: archivo_10.text\n",
      "Archivo: archivo_2.text\n",
      "Archivo: archivo_3.text\n",
      "Archivo: archivo_4.text\n",
      "Archivo: archivo_5.text\n",
      "Archivo: archivo_6.text\n",
      "Archivo: archivo_7.text\n",
      "Archivo: archivo_8.text\n",
      "Archivo: archivo_9.text\n",
      "Archivo: archivo_11.text\n",
      "Archivo: archivo_12.text\n",
      "Archivo: archivo_13.text\n"
     ]
    }
   ],
   "source": [
    "# Celda para desarrollar \n",
    "import os\n",
    "\n",
    "def revisar_carpeta(ruta):\n",
    "    try:\n",
    "        contenido = os.listdir(ruta)\n",
    "        for elemento in contenido:\n",
    "            elemento_ruta = os.path.join(ruta, elemento)\n",
    "            if os.path.isdir(elemento_ruta):\n",
    "                # Si es una carpeta, llamada recursiva a la función para revisar su contenido\n",
    "                revisar_carpeta(elemento_ruta)\n",
    "            elif os.path.isfile(elemento_ruta):\n",
    "                # Si es un archivo, imprimir su nombre\n",
    "                print(\"Archivo:\", elemento)\n",
    "    except Exception as e:\n",
    "        print(f\"Error al revisar la carpeta {ruta}: {e}\")\n",
    "\n",
    "# Ruta de la carpeta principal\n",
    "carpeta_principal = \"Carpeta_principal\"\n",
    "\n",
    "# Llamada a la función para revisar la carpeta principal\n",
    "revisar_carpeta(carpeta_principal)\n",
    "\n",
    "\n",
    "\n",
    "\n",
    "\n",
    "\n",
    "\n"
   ]
  },
  {
   "cell_type": "markdown",
   "id": "26a6bb9e",
   "metadata": {},
   "source": [
    "# Actividad: Crear diccionarios y guardarlos como archivo JSON.\n",
    "\n",
    "De la unidad 11 sección 4.6 revise el ejemplo mostrado.\n",
    "\n",
    "Genera un diccionario, sobre la información que deseas guardar como base de datos, desarrollo el código necesario para generar el archivo JSON, y también el código para cargar la información del archivo JSON.\n"
   ]
  },
  {
   "cell_type": "code",
   "execution_count": 10,
   "id": "6670eace",
   "metadata": {},
   "outputs": [
    {
     "name": "stdout",
     "output_type": "stream",
     "text": [
      "Archivo JSON creado exitosamente.\n",
      "Datos cargados desde el archivo JSON:\n",
      "{'usuarios': [{'id': 1, 'nombre': 'Juan', 'edad': 25}, {'id': 2, 'nombre': 'María', 'edad': 30}, {'id': 3, 'nombre': 'Pedro', 'edad': 28}], 'productos': [{'id': 101, 'nombre': 'Laptop', 'precio': 1200}, {'id': 102, 'nombre': 'Teléfono', 'precio': 600}, {'id': 103, 'nombre': 'Tablet', 'precio': 300}]}\n"
     ]
    }
   ],
   "source": [
    "import json\n",
    "\n",
    "\n",
    "informacion_base_de_datos = {\n",
    "    \"usuarios\": [\n",
    "        {\"id\": 1, \"nombre\": \"Juan\", \"edad\": 25},\n",
    "        {\"id\": 2, \"nombre\": \"María\", \"edad\": 30},\n",
    "        {\"id\": 3, \"nombre\": \"Pedro\", \"edad\": 28}\n",
    "    ],\n",
    "    \"productos\": [\n",
    "        {\"id\": 101, \"nombre\": \"Laptop\", \"precio\": 1200},\n",
    "        {\"id\": 102, \"nombre\": \"Teléfono\", \"precio\": 600},\n",
    "        {\"id\": 103, \"nombre\": \"Tablet\", \"precio\": 300}\n",
    "    ]\n",
    "}\n",
    "\n",
    "\n",
    "with open('informacion_base_de_datos.json', 'w') as archivo_json:\n",
    "    json.dump(informacion_base_de_datos, archivo_json)\n",
    "\n",
    "print(\"Archivo JSON creado exitosamente.\")\n",
    "\n",
    "\n",
    "try:\n",
    "    with open('informacion_base_de_datos.json', 'r') as archivo_json:\n",
    "        datos_cargados = json.load(archivo_json)\n",
    "        print(\"Datos cargados desde el archivo JSON:\")\n",
    "        print(datos_cargados)\n",
    "except FileNotFoundError:\n",
    "    print(\"El archivo JSON no existe. Por favor, ejecuta la celda anterior para crearlo.\")\n",
    "except json.JSONDecodeError as e:\n",
    "    print(f\"Error al decodificar el archivo JSON: {e}\")\n",
    "\n",
    "\n",
    "\n",
    "\n",
    "\n",
    "\n",
    "\n",
    "\n",
    "\n",
    "\n",
    "\n",
    "\n",
    "\n",
    "\n",
    "\n"
   ]
  },
  {
   "cell_type": "markdown",
   "id": "fbfb4985",
   "metadata": {},
   "source": [
    "# Actividad: Uso de la funcion Lambda.\n",
    "\n",
    "## Instrucciones\n",
    "\n",
    "1. Escriba una función regular donde se realice una operación.\n",
    "2. Escriba la misma función donde use la expresión lambda.\n",
    "3. Explica brevemente las ventajas de usar la función Lambda.\n"
   ]
  },
  {
   "cell_type": "code",
   "execution_count": 5,
   "id": "fc5b1a43",
   "metadata": {},
   "outputs": [
    {
     "name": "stdout",
     "output_type": "stream",
     "text": [
      "Resultado Regular: 25\n",
      "Resultado Lambda: 25\n"
     ]
    }
   ],
   "source": [
    "#Función Regular:\n",
    "def cuadrado(x):\n",
    "    return x ** 2\n",
    "\n",
    "# Uso de la función regular\n",
    "resultado_regular = cuadrado(5)\n",
    "print(\"Resultado Regular:\", resultado_regular)\n",
    "\n",
    "\n",
    "#Función Lambda:\n",
    "cuadrado_lambda = lambda x: x ** 2\n",
    "\n",
    "resultado_lambda = cuadrado_lambda(5)\n",
    "print(\"Resultado Lambda:\", resultado_lambda)\n",
    "\n",
    "# Ventajas de usar Funciones Lambda:\n",
    "\"\"\"\n",
    "Concisión del Código: Las funciones lambda permiten escribir código de \n",
    "manera más concisa y clara, especialmente cuando se trata de operaciones simples.\n",
    "\n",
    "Sintaxis Compacta: La sintaxis lambda es más compacta que la definición de funciones regulares, \n",
    "lo que es útil cuando se necesita una función rápida y no es necesario asignar un nombre completo a la función.\n",
    "\"\"\"\n",
    "\n",
    "\n",
    "\n"
   ]
  },
  {
   "cell_type": "markdown",
   "id": "98938d2d",
   "metadata": {},
   "source": [
    "# Actividad: Usar la función map para duplicar el valor de cada uno de los elementos contenidos.\n",
    "\n",
    "## Instrucciones\n",
    "\n",
    "1. Describa brevemente el funcionamiento y las ventajas de usar la función map\n",
    "2. Escriba el código en el siguiente espacio."
   ]
  },
  {
   "cell_type": "code",
   "execution_count": 6,
   "id": "a35ef1b7",
   "metadata": {},
   "outputs": [
    {
     "name": "stdout",
     "output_type": "stream",
     "text": [
      "Lista Original: [1, 2, 3, 4, 5]\n",
      "Resultado Duplicado: [2, 4, 6, 8, 10]\n"
     ]
    }
   ],
   "source": [
    "#FUNCIONAMIENTO DE MAP:\n",
    "\"\"\"\n",
    "La función map en Python se utiliza para aplicar una \n",
    "función dada a cada elemento de un iterable (como una lista o tupla) y devuelve un nuevo iterable con los resultados. \n",
    "\"\"\"\n",
    "\n",
    "#Ventajas de usar map:\n",
    "\"\"\"\n",
    "Concisión del Código: map proporciona una forma \n",
    "concisa de aplicar una función a todos los elementos de un iterable \n",
    "en una sola línea de código, evitando la necesidad de bucles explícitos.\n",
    "\n",
    "Eficiencia: Internamente, map puede aprovechar la capacidad de \n",
    "procesamiento paralelo en algunos casos, lo que podría mejorar la eficiencia en comparación con un bucle tradicional.\n",
    "\"\"\"\n",
    "#Escriba el código en el siguiente espacio.\n",
    "\n",
    "def duplicar(valor):\n",
    "    return valor * 2\n",
    "numeros = [1, 2, 3, 4, 5]\n",
    "resultado_map = map(duplicar, numeros)\n",
    "resultado_lista = list(resultado_map)\n",
    "print(\"Lista Original:\", numeros)\n",
    "print(\"Resultado Duplicado:\", resultado_lista)\n",
    "\n",
    "\n",
    "\n",
    "\n",
    "\n"
   ]
  },
  {
   "cell_type": "code",
   "execution_count": null,
   "id": "8f3b4b92",
   "metadata": {},
   "outputs": [],
   "source": []
  }
 ],
 "metadata": {
  "kernelspec": {
   "display_name": "Python 3 (ipykernel)",
   "language": "python",
   "name": "python3"
  },
  "language_info": {
   "codemirror_mode": {
    "name": "ipython",
    "version": 3
   },
   "file_extension": ".py",
   "mimetype": "text/x-python",
   "name": "python",
   "nbconvert_exporter": "python",
   "pygments_lexer": "ipython3",
   "version": "3.11.5"
  }
 },
 "nbformat": 4,
 "nbformat_minor": 5
}
