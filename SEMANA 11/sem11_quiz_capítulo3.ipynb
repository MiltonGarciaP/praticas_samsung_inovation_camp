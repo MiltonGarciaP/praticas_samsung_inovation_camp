{
  "cells": [
    {
      "cell_type": "markdown",
      "id": "f34adb44",
      "metadata": {
        "id": "f34adb44"
      },
      "source": [
        "# Inteligencia Artificial\n",
        "\n",
        "## Capítulo 3\n",
        "\n",
        "### NumPy Arrays: Computación Numérica Optimizada y Pandas: Análisis Exploratorio de Datos\n",
        "\n",
        "- **Unidad 1.** Estructura de datos de matriz de NumPy para un rendimiento computacional óptimo\n",
        "- **Unidad 2.** Exploración óptima de datos a través de pandas\n",
        "- **Unidad 3.** Pre-procesamiento de datos de pandas para una ejecución óptima del modelo\n",
        "- **Unidad 4.** Visualización de datos para varias escalas de datos\n",
        "\n",
        "# Quiz"
      ]
    },
    {
      "cell_type": "markdown",
      "id": "2e42031a",
      "metadata": {
        "id": "2e42031a"
      },
      "source": [
        "___"
      ]
    },
    {
      "cell_type": "markdown",
      "id": "ac1e9b02",
      "metadata": {
        "id": "ac1e9b02"
      },
      "source": [
        "## Q 03-01\n",
        "\n",
        "### ¿Cuál es una sintaxis correcta para crear una matriz NumPy?\n",
        "\n",
        "1. np.createArray([1, 2, 3, 4, 5])\n",
        "2. np.array([1, 2, 3, 4, 5])\n",
        "3. np.object([1, 2, 3, 4, 5])"
      ]
    },
    {
      "cell_type": "markdown",
      "id": "903e6874",
      "metadata": {
        "id": "903e6874"
      },
      "source": [
        "**Respuesta:**"
      ]
    },
    {
      "cell_type": "code",
      "execution_count": 4,
      "id": "mQPwnr-d4nn4",
      "metadata": {
        "id": "mQPwnr-d4nn4"
      },
      "outputs": [],
      "source": [
        "import numpy as np\n",
        "arr = np.array([1, 2, 3, 4, 5]) #La segunda opcion que es np.array([1, 2, 3, 4, 5])"
      ]
    },
    {
      "cell_type": "markdown",
      "id": "87a3a925",
      "metadata": {
        "id": "87a3a925"
      },
      "source": [
        "## Q 03-02\n",
        "\n",
        "### ¿Cuál es una sintaxis correcta para verificar el número de dimensiones en una matriz?\n",
        "\n",
        "1. np.dim()\n",
        "2. np.ndim()\n",
        "3. np.ndim\n",
        "4. np.dim"
      ]
    },
    {
      "cell_type": "markdown",
      "id": "62678495",
      "metadata": {
        "id": "62678495"
      },
      "source": [
        "**Respuesta:**"
      ]
    },
    {
      "cell_type": "code",
      "execution_count": 3,
      "id": "Ws3ZJVSh49SB",
      "metadata": {
        "id": "Ws3ZJVSh49SB"
      },
      "outputs": [
        {
          "name": "stdout",
          "output_type": "stream",
          "text": [
            "1\n"
          ]
        }
      ],
      "source": [
        "print(np.ndim(arr)) # la segunda opcion que es np.ndim()"
      ]
    },
    {
      "cell_type": "markdown",
      "id": "8c115f28",
      "metadata": {
        "id": "8c115f28"
      },
      "source": [
        "## Q 03-03\n",
        "\n",
        "### ¿Cuál sería la respuesta de esta suma acumulada en NumPy?\n",
        "\n",
        "```\n",
        "arr = np.array([1,2,3])\n",
        "print(np.cumsum(arr))\n",
        "\n",
        "```\n",
        "\n",
        "1. [3, 6, 9]\n",
        "2. [6]\n",
        "3. [9]\n",
        "4. [1 3 6]"
      ]
    },
    {
      "cell_type": "markdown",
      "id": "4b66252e",
      "metadata": {
        "id": "4b66252e"
      },
      "source": [
        "**Respuesta:**"
      ]
    },
    {
      "cell_type": "code",
      "execution_count": 4,
      "id": "tTz-SS045oqC",
      "metadata": {
        "id": "tTz-SS045oqC"
      },
      "outputs": [
        {
          "name": "stdout",
          "output_type": "stream",
          "text": [
            "[1 3 6]\n"
          ]
        }
      ],
      "source": [
        "arr = np.array([1,2,3])\n",
        "print(np.cumsum(arr))\n",
        "# 4. [1 3 6]\n"
      ]
    },
    {
      "cell_type": "markdown",
      "id": "410f8980",
      "metadata": {
        "id": "410f8980"
      },
      "source": [
        "## Q 03-04\n",
        "\n",
        "### Responde las siguientes preguntas.\n",
        "\n",
        "```\n",
        "import pandas as pd\n",
        "import numpy as np\n",
        "import os\n",
        "import matplotlib.pyplot as plt\n",
        "%matplotlib inline\n",
        "\n",
        "# Lea los datos.\n",
        "# Vaya al directorio donde se encuentra el archivo de los datos.\n",
        "os.chdir(r'~~') # Reemplace con la dirección del archivo\n",
        "df = pd.read_csv('data_sales.csv', header='infer')\n",
        "df.shape\n",
        "df.head(5)\n",
        "```\n",
        "\n",
        "1. Agregue una nueva variable 𝐴𝑚𝑜𝑢𝑛𝑡=𝑈𝑛𝑖𝑡𝑃𝑟𝑖𝑐×𝑈𝑛𝑖𝑡𝑠Amount=UnitPric×Units.\n",
        "2. Precio unitario medio de cada región. Utilice el método groupby().\n",
        "3. Precio unitario medio de cada región. Usa el método pivot_table()."
      ]
    },
    {
      "cell_type": "markdown",
      "id": "b239c413",
      "metadata": {
        "id": "b239c413"
      },
      "source": [
        "**Respuesta:**"
      ]
    },
    {
      "cell_type": "code",
      "execution_count": 11,
      "id": "QjlPDxBc7XOE",
      "metadata": {
        "id": "QjlPDxBc7XOE"
      },
      "outputs": [
        {
          "name": "stdout",
          "output_type": "stream",
          "text": [
            "        Date   Region     Item  Unit Price  Units   Amount\n",
            "0  04-Jul-14     East  Pen Set        4.99     62   309.38\n",
            "1  12-Jul-14     East   Binder        1.99     29    57.71\n",
            "2  21-Jul-14  Central  Pen Set       12.49     55   686.95\n",
            "3  29-Jul-14     East   Binder       19.99     81  1619.19\n",
            "4  07-Aug-14  Central  Pen Set       23.95     42  1005.90\n",
            "Region\n",
            "Central    18.018750\n",
            "East        9.143846\n",
            "West       53.658333\n",
            "Name: Unit Price, dtype: float64\n",
            "         Unit Price\n",
            "Region             \n",
            "Central   18.018750\n",
            "East       9.143846\n",
            "West      53.658333\n"
          ]
        },
        {
          "name": "stderr",
          "output_type": "stream",
          "text": [
            "C:\\Users\\DELL\\AppData\\Local\\Temp\\ipykernel_7804\\147793950.py:19: FutureWarning: The provided callable <function mean at 0x00000191E6378220> is currently using DataFrameGroupBy.mean. In a future version of pandas, the provided callable will be used directly. To keep current behavior pass the string \"mean\" instead.\n",
            "  media_por_region_pivot = pd.pivot_table(df, values='Unit Price', index='Region', aggfunc=np.mean)\n"
          ]
        }
      ],
      "source": [
        "import pandas as pd\n",
        "import os\n",
        "import matplotlib.pyplot as plt\n",
        "%matplotlib inline\n",
        "\n",
        "\n",
        "df = pd.read_csv('data_sales.csv', header='infer')\n",
        "df.shape\n",
        "df.head(5)\n",
        "\n",
        "\n",
        "# 1. Agregar una nueva variable Amount = 'Unit Price' * 'Units'\n",
        "df['Amount'] = df['Unit Price'] * df['Units']\n",
        "\n",
        "# 2. Precio unitario medio de cada región usando groupby()\n",
        "media_por_region_group = df.groupby('Region')['Unit Price'].mean()\n",
        "\n",
        "# 3. Precio unitario medio de cada región usando pivot_table()\n",
        "media_por_region_pivot = pd.pivot_table(df, values='Unit Price', index='Region', aggfunc=np.mean)\n",
        "\n",
        "\n",
        "print(df.head())\n",
        "print(media_por_region_group)\n",
        "print(media_por_region_pivot)\n"
      ]
    },
    {
      "cell_type": "markdown",
      "id": "ba019f33",
      "metadata": {
        "id": "ba019f33"
      },
      "source": [
        "___"
      ]
    },
    {
      "cell_type": "markdown",
      "id": "d4b76da3",
      "metadata": {
        "id": "d4b76da3"
      },
      "source": [
        "## Q 03-05\n",
        "\n",
        "### Responde las siguientes preguntas.\n",
        "\n",
        "```\n",
        "import pandas as pd\n",
        "import numpy as np\n",
        "import os\n",
        "import matplotlib.pyplot as plt\n",
        "%matplotlib inline\n",
        "\n",
        "# Lea los datos.\n",
        "# Vaya al directorio donde se encuentra el archivo de los datos.\n",
        "os.chdir(r'~~') # Reemplace con la dirección del archivo\n",
        "df = pd.read_csv('data_coffeeshop.csv', header='infer', na_values=[' '])\n",
        "df.shape\n",
        "df.head(5)\n",
        "```\n",
        "\n",
        "1.   Haz una tabla de frecuencia de 'yearOfStart' y visualízala por año.\n",
        "- Ordenar por año.\n",
        "- Dibuja un gráfico de líneas desde 1997 hasta 2014. <= Pista: plt.xlim()"
      ]
    },
    {
      "cell_type": "markdown",
      "id": "20998ef3",
      "metadata": {
        "id": "20998ef3"
      },
      "source": [
        "**Respuesta:**"
      ]
    },
    {
      "cell_type": "code",
      "execution_count": 17,
      "id": "rBDeXJRl8LEJ",
      "metadata": {
        "id": "rBDeXJRl8LEJ"
      },
      "outputs": [
        {
          "name": "stdout",
          "output_type": "stream",
          "text": [
            "Year of Start\n",
            "1964.0       2\n",
            "1966.0       2\n",
            "1967.0       3\n",
            "1968.0       1\n",
            "1969.0       2\n",
            "1970.0       4\n",
            "1971.0       6\n",
            "1972.0       3\n",
            "1974.0       1\n",
            "1975.0       2\n",
            "1976.0       5\n",
            "1979.0       4\n",
            "1980.0       9\n",
            "1981.0       8\n",
            "1982.0      12\n",
            "1983.0       9\n",
            "1984.0      11\n",
            "1985.0      18\n",
            "1986.0      21\n",
            "1987.0      21\n",
            "1988.0      26\n",
            "1989.0      23\n",
            "1990.0      25\n",
            "1991.0      28\n",
            "1992.0      37\n",
            "1993.0      50\n",
            "1994.0      48\n",
            "1995.0      48\n",
            "1996.0      41\n",
            "1997.0      54\n",
            "1998.0      54\n",
            "1999.0      46\n",
            "2000.0      89\n",
            "2001.0     183\n",
            "2002.0     398\n",
            "2003.0     799\n",
            "2004.0     648\n",
            "2005.0     654\n",
            "2006.0     863\n",
            "2007.0    1233\n",
            "2008.0    1579\n",
            "2009.0    2489\n",
            "2010.0    4172\n",
            "2011.0    5942\n",
            "2012.0    6315\n",
            "2013.0    7270\n",
            "2014.0    9905\n",
            "Name: count, dtype: int64\n"
          ]
        },
        {
          "data": {
            "image/png": "[encoded data removed]",
            "text/plain": [
              "<Figure size 1000x600 with 1 Axes>"
            ]
          },
          "metadata": {},
          "output_type": "display_data"
        }
      ],
      "source": [
        "import pandas as pd\n",
        "import numpy as np\n",
        "import os\n",
        "import matplotlib.pyplot as plt\n",
        "%matplotlib inline\n",
        "\n",
        "\n",
        "df = pd.read_csv('data_coffeeshop.csv', header='infer', na_values=[' '])\n",
        "df.shape\n",
        "df.head(5)\n",
        "\n",
        "# 1.Haz una tabla de frecuencia de 'yearOfStart' y visualízala por año.\n",
        "year_freq = df['Year of Start'].value_counts().sort_index()\n",
        "print(year_freq)\n",
        "# 2. Ordenar por año\n",
        "year_freq_sorted = year_freq.sort_index()\n",
        "\n",
        "# 3. Dibujar un gráfico de líneas desde 1997 hasta 2014\n",
        "plt.figure(figsize=(10, 6))\n",
        "plt.plot(year_freq_sorted.index, year_freq_sorted.values, marker='o', linestyle='-')\n",
        "plt.xlabel('Año')\n",
        "plt.ylabel('Frecuencia')\n",
        "plt.title('Frecuencia de Inicio de Negocios por Año')\n",
        "plt.xlim(1997, 2014)  # Limitar el eje x al rango deseado\n",
        "plt.grid(True)\n",
        "plt.show()\n",
        "\n",
        "\n",
        "\n",
        "\n"
      ]
    },
    {
      "cell_type": "markdown",
      "id": "aa90491d",
      "metadata": {
        "id": "aa90491d"
      },
      "source": [
        "___"
      ]
    },
    {
      "cell_type": "markdown",
      "id": "ed04e881",
      "metadata": {
        "id": "ed04e881"
      },
      "source": [
        "## Fin"
      ]
    }
  ],
  "metadata": {
    "colab": {
      "provenance": []
    },
    "kernelspec": {
      "display_name": "Python 3 (ipykernel)",
      "language": "python",
      "name": "python3"
    },
    "language_info": {
      "codemirror_mode": {
        "name": "ipython",
        "version": 3
      },
      "file_extension": ".py",
      "mimetype": "text/x-python",
      "name": "python",
      "nbconvert_exporter": "python",
      "pygments_lexer": "ipython3",
      "version": "3.11.9"
    }
  },
  "nbformat": 4,
  "nbformat_minor": 5
}
