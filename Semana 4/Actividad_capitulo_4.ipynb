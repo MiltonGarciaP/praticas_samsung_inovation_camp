{
 "cells": [
  {
   "cell_type": "markdown",
   "id": "5d671b98",
   "metadata": {},
   "source": [
    "# Actividades Capítulo 4 - Estructuras de Datos\n",
    "\n",
    "Resumen de la actividad.\n",
    "\n",
    "\n",
    "- **1. Pilas y Colas**\n",
    "  - Actividad 1.2 - Implementar una Cola\n",
    "\n",
    "\n",
    "- **2. Búsqueda Secuencial**\n",
    "  - Actividad 2.1 - Búsqueda en una Lista\n",
    "\n",
    "\n",
    "- **3. Búsqueda Binaria**\n",
    "  - Actividad 3.1 - Búsqueda Binaria\n",
    "\n",
    "\n",
    "- **4. Tablas Hash**\n",
    "  - Actividad 4.1 - Implementar una Tabla Hash"
   ]
  },
  {
   "cell_type": "markdown",
   "id": "33866775",
   "metadata": {},
   "source": [
    "# Actividad: Implementación de una Pila en Python\n",
    "\n",
    "En esta actividad, tendrás la oportunidad de aplicar tus conocimientos sobre estructuras de datos y programación en Python para implementar una pila (stack). Una pila es una estructura de datos que sigue el principio \"Last-In-First-Out\" (LIFO), lo que significa que el último elemento que se agrega es el primero en ser eliminado.\n",
    "\n",
    "## Resumen:\n",
    "\n",
    "- **stack** = [ ]  # Recordando que una pila es básicamente una lista.\n",
    "- **append**: Método utilizado para agregar un elemento a la lista.\n",
    "- **pop**: Método usado para eliminar elementos de la lista, sino se especifica el índice se elimina el último elemento y retorna la lista resultante."
   ]
  },
  {
   "cell_type": "code",
   "execution_count": 2,
   "id": "fbb2dca1",
   "metadata": {},
   "outputs": [
    {
     "name": "stdout",
     "output_type": "stream",
     "text": [
      "Nombres con inicial 'A': ['Ana']\n",
      "Nombres con inicial 'C': ['Carlos']\n",
      "Nombres con inicial 'D': ['David']\n",
      "Nombres con inicial 'E': ['Elena']\n",
      "Nombres con inicial 'F': ['Fernando']\n",
      "Nombres con inicial 'G': ['Gabriela']\n",
      "Nombres con inicial 'H': ['Hugo']\n",
      "Nombres con inicial 'I': ['Isabel']\n",
      "Nombres con inicial 'J': ['Juan']\n",
      "Nombres con inicial 'L': ['Luis', 'Lucía', 'Lorena']\n",
      "Nombres con inicial 'M': ['Manuel', 'María', 'Miguel']\n",
      "Nombres con inicial 'N': ['Natalia', 'Nicolás', 'Nora']\n",
      "Nombres con inicial 'Ó': ['Óscar']\n",
      "Nombres con inicial 'O': ['Olivia']\n",
      "Nombres con inicial 'P': ['Pablo', 'Paula', 'Pedro']\n",
      "Nombres con inicial 'R': ['Raquel', 'Rafael', 'Renata', 'Roberto', 'Rosario']\n",
      "Nombres con inicial 'S': ['Sara', 'Sergio', 'Silvia']\n",
      "Nombres con inicial 'T': ['Tomás', 'Teresa']\n",
      "Nombres con inicial 'V': ['Víctor', 'Verónica']\n",
      "Nombres con inicial 'X': ['Ximena', 'Xavier']\n",
      "Nombres con inicial 'Y': ['Yolanda', 'Yenny']\n",
      "Nombres con inicial 'Z': ['Zaira', 'Zoe', 'Zacarías']\n"
     ]
    }
   ],
   "source": [
    "nombres_aleatorios = [\"Ana\", \"Carlos\", \"David\", \"Elena\", \"Fernando\", \"Gabriela\",\n",
    "                      \"Hugo\", \"Isabel\", \"Juan\", \"Luis\", \"Lucía\",\n",
    "                      \"Lorena\", \"Manuel\", \"María\", \"Miguel\", \"Natalia\",\n",
    "                      \"Nicolás\", \"Nora\", \"Óscar\", \"Olivia\", \"Pablo\", \"Paula\",\n",
    "                      \"Pedro\", \"Raquel\", \"Rafael\", \"Renata\", \"Roberto\", \"Rosario\",\n",
    "                      \"Sara\", \"Sergio\", \"Silvia\", \"Tomás\", \"Teresa\", \"Víctor\", \"Verónica\",\n",
    "                      \"Ximena\", \"Xavier\", \"Yolanda\", \"Yenny\", \"Zaira\", \"Zoe\", \"Zacarías\"]\n",
    "\n",
    "# Generar un código para revisar los nombres contenidos en la lista, y guardarlos en diferentes listas,\n",
    "# de acuerdo a la inicial del nombre, use los comandos usandos antenirmente y barra los elementos usando \n",
    "# el comando \"for nombre in nombres_aleatorios:\" al final del proceso la lista inicial debe quedar vacia.\n",
    "# Inicializar el diccionario para almacenar los nombres por inicial\n",
    "nombres_por_inicial = {}\n",
    "\n",
    "\n",
    "for nombre in nombres_aleatorios:\n",
    "    inicial = nombre[0]  \n",
    "    if inicial in nombres_por_inicial:\n",
    "   \n",
    "        nombres_por_inicial[inicial].append(nombre)\n",
    "    else:\n",
    "        \n",
    "        nombres_por_inicial[inicial] = [nombre]\n",
    "\n",
    "\n",
    "nombres_aleatorios = []\n",
    "\n",
    "\n",
    "for inicial, nombres in nombres_por_inicial.items():\n",
    "    print(f\"Nombres con inicial '{inicial}': {nombres}\")\n",
    "\n"
   ]
  },
  {
   "cell_type": "markdown",
   "id": "490f04a8",
   "metadata": {},
   "source": [
    "# Actividad: Replique el código, mostrado en la presentación 36 correspondiente al capítulo 4.\n",
    "\n",
    "En este codódigo se muestra la creación de una clasa para crear una pila y hacer las actividades básicas correspondientes.\n",
    "\n",
    "- **__init__**: Creación de la pila.\n",
    "- **is_empty**: Verificación si la pila está vacia.\n",
    "- **push**: agregar elemento a la pila\n",
    "- **pop**:si la pila no está vacia eliminar el último de elemento.\n",
    "\n",
    "Use la notación mostrada en la presentacion 40, realice varias operaciones y comente brevemente los resultados (máximo 3 lineas), antes de pasar a la siguiente actividad asegurese de entender completamente la notación utilizada."
   ]
  },
  {
   "cell_type": "code",
   "execution_count": 3,
   "id": "950d71ca",
   "metadata": {},
   "outputs": [
    {
     "name": "stdout",
     "output_type": "stream",
     "text": [
      "¿La pila está vacía? True\n",
      "¿La pila está vacía después de agregar elementos? False\n",
      "Elemento eliminado: 3\n",
      "Elemento eliminado: 2\n",
      "Elemento eliminado: 1\n",
      "Elemento eliminado: La pila está vacía\n"
     ]
    }
   ],
   "source": [
    "# Escriba su código en está celda y todos los comentarios necesarios en la misma celda.\n",
    "class Stack:\n",
    "    def __init__(self):\n",
    "        self.items = []\n",
    "\n",
    "    def is_empty(self):\n",
    "        return self.items == []\n",
    "\n",
    "    def push(self, item):\n",
    "        self.items.append(item)\n",
    "\n",
    "    def pop(self):\n",
    "        if not self.is_empty():\n",
    "            return self.items.pop()\n",
    "        else:\n",
    "            return \"La pila está vacía\"\n",
    "\n",
    "# Creación de una pila\n",
    "stack = Stack()\n",
    "\n",
    "# Verificar si la pila está vacía\n",
    "print(\"¿La pila está vacía?\", stack.is_empty())\n",
    "\n",
    "# Agregar elementos a la pila\n",
    "stack.push(1)\n",
    "stack.push(2)\n",
    "stack.push(3)\n",
    "\n",
    "# Verificar si la pila está vacía nuevamente\n",
    "print(\"¿La pila está vacía después de agregar elementos?\", stack.is_empty())\n",
    "\n",
    "# Eliminar elementos de la pila\n",
    "print(\"Elemento eliminado:\", stack.pop())\n",
    "print(\"Elemento eliminado:\", stack.pop())\n",
    "print(\"Elemento eliminado:\", stack.pop())\n",
    "\n",
    "# Intentar eliminar de una pila vacía\n",
    "print(\"Elemento eliminado:\", stack.pop())\n",
    "\n",
    "\n",
    "\n",
    "\n",
    "\n",
    "\n",
    "\n",
    "\n",
    "\n",
    "\n",
    "\n"
   ]
  },
  {
   "cell_type": "markdown",
   "id": "5f2fe9e8",
   "metadata": {},
   "source": [
    "# Actividad: Búsqueda secuencial.\n",
    "\n",
    "Se tiene una lista de 10 ciudades organizadas en función de la densidad de población, escriba una función para retornar la posición ocupada.\n"
   ]
  },
  {
   "cell_type": "code",
   "execution_count": 5,
   "id": "dec8954f",
   "metadata": {},
   "outputs": [
    {
     "name": "stdout",
     "output_type": "stream",
     "text": [
      "5\n"
     ]
    }
   ],
   "source": [
    "ciudades = [\n",
    "    \"Daca, Bangladés\",\n",
    "    \"Karachi, Pakistán\",\n",
    "    \"Nueva Delhi, India\",\n",
    "    \"Manila, Filipinas\",\n",
    "    \"Seúl, Corea del Sur\",\n",
    "    \"Cantón, China\",\n",
    "    \"Taipéi, Taiwán\",\n",
    "    \"Chenaral, Chile\",\n",
    "    \"Shenzhen, China\",\n",
    "    \"Bombay, India\"\n",
    "]\n",
    "\n",
    "def obtener_posicion(ciudades, ciudad):\n",
    "    # Espaciós para desarrollar el código\n",
    "    \n",
    "    for i, c in enumerate(ciudades):\n",
    "        if c == ciudad:\n",
    "            return i + 1  # Sumamos 1 porque las posiciones suelen empezar en 1, no en 0\n",
    "    return \"La ciudad no está en la lista\"\n",
    "    \n",
    "    \n",
    "    \n",
    "    return posicion\n",
    "\n",
    "posicion_ocupada = obtener_posicion(ciudades,\"Seúl, Corea del Sur\")\n",
    "print(posicion_ocupada)"
   ]
  },
  {
   "cell_type": "markdown",
   "id": "9fffd532",
   "metadata": {},
   "source": [
    "# Actividad: Búsqueda binaria.\n",
    "\n",
    "- Escriba al menos una ventaja de la busqueda binaria.\n",
    "- Replique el código mostrado en la presentación 192.\n",
    "- Explique brevemente el funcionamiento del código, maximo 3 lineas.\n",
    "- Ingrese un piso de ruptura del huevo y calcule cuantas veces se realiza la revisión para encontrar el piso seguro.(Se puede agrear algún contador dentro del código para verificar)\n"
   ]
  },
  {
   "cell_type": "code",
   "execution_count": 9,
   "id": "bdc866e2",
   "metadata": {},
   "outputs": [
    {
     "name": "stdout",
     "output_type": "stream",
     "text": [
      "Ingrese el número máximo: 25\n",
      "Ingrese el número que cree que es correcto: 12\n",
      "Tu número es 12\n",
      "Total de veces que se realizó la búsqueda: 5\n"
     ]
    },
    {
     "data": {
      "text/plain": [
       "'\\n-El código solicita al usuario que ingrese el número máximo y el número objetivo.\\n-Utiliza el algoritmo de búsqueda binaria para encontrar el número objetivo dentro del rango definido.\\n-Imprime el número de veces que se realizó la búsqueda antes de encontrar el número objetivo.\\n'"
      ]
     },
     "execution_count": 9,
     "metadata": {},
     "output_type": "execute_result"
    }
   ],
   "source": [
    "#Escriba al menos una ventaja de la busqueda binaria.\n",
    "\"\"\"\n",
    "Una ventaja clave de la búsqueda binaria es su eficiencia en términos de tiempo de ejecución. \n",
    "A diferencia de la búsqueda lineal, que tiene una complejidad de tiempo de O(n) \n",
    "(donde n es el número de elementos en la lista), \n",
    "la búsqueda binaria tiene una complejidad de tiempo de O(log n) en listas ordenadas. \n",
    "\"\"\"\n",
    "# Espacio para replicar el código.\n",
    "from random import randint\n",
    "\n",
    "# Solicitar al usuario que ingrese el número máximo y el número objetivo\n",
    "maximum = int(input(\"Ingrese el número máximo: \"))\n",
    "number = int(input(\"Ingrese el número que cree que es correcto: \"))\n",
    "count = 0\n",
    "low, high = 1, maximum\n",
    "\n",
    "# Realizar la búsqueda binaria\n",
    "while low <= high:\n",
    "    mid = (low + high) // 2\n",
    "    count += 1\n",
    "    if mid == number:\n",
    "        print(f\"Tu número es {number}\")\n",
    "        break\n",
    "    elif mid > number:\n",
    "        high = mid - 1\n",
    "    else:\n",
    "        low = mid + 1\n",
    "# Cálculo y verificación del número de veces que se realiza la verificación.\n",
    "# Imprimir el total de veces que se realizó la búsqueda\n",
    "print(f\"Total de veces que se realizó la búsqueda: {count}\")\n",
    "\n",
    "\n",
    "# Espacio para explicar funcionamiento.\n",
    "\"\"\"\n",
    "-El código solicita al usuario que ingrese el número máximo y el número objetivo.\n",
    "-Utiliza el algoritmo de búsqueda binaria para encontrar el número objetivo dentro del rango definido.\n",
    "-Imprime el número de veces que se realizó la búsqueda antes de encontrar el número objetivo.\n",
    "\"\"\"\n",
    "\n",
    "\n",
    "\n",
    "\n"
   ]
  },
  {
   "cell_type": "markdown",
   "id": "eb266a1e",
   "metadata": {},
   "source": [
    "# Actividad: Definir una tabla Hash tipo diccionario.\n",
    "\n",
    "En la siguiente celda se muestrar como crear un diccionario, como agregar elementos, como eliminar elementos,\n",
    "como verificar si la key existe en el diccionario, basados en este código agregue otros elementos, comente los resultados, si tienes alguna duda también la puedes escribir. (Use máximo 3 líneas en la explicación)\n"
   ]
  },
  {
   "cell_type": "code",
   "execution_count": 8,
   "id": "f48163a5",
   "metadata": {},
   "outputs": [
    {
     "name": "stdout",
     "output_type": "stream",
     "text": [
      "Nombre: Juan\n",
      "Edad: 30\n",
      "Ciudad: Nueva York\n",
      "Profesión: Ingeniero\n",
      "Hobbies: ['fútbol', 'lectura', 'viajar']\n",
      "La clave 'ciudad' no está en el diccionario.\n"
     ]
    }
   ],
   "source": [
    "# Crear un diccionario vacío\n",
    "mi_diccionario = {}\n",
    "\n",
    "# Agregar elementos al diccionario\n",
    "mi_diccionario[\"nombre\"] = \"Juan\"\n",
    "mi_diccionario[\"edad\"] = 30\n",
    "mi_diccionario[\"ciudad\"] = \"Nueva York\"\n",
    "mi_diccionario[\"profesión\"] = \"Ingeniero\"\n",
    "mi_diccionario[\"hobbies\"] = [\"fútbol\", \"lectura\", \"viajar\"]\n",
    "# Acceder a los valores por clave\n",
    "print(\"Nombre:\", mi_diccionario[\"nombre\"])\n",
    "print(\"Edad:\", mi_diccionario[\"edad\"])\n",
    "print(\"Ciudad:\", mi_diccionario[\"ciudad\"])\n",
    "print(\"Profesión:\", mi_diccionario[\"profesión\"])\n",
    "print(\"Hobbies:\", mi_diccionario[\"hobbies\"])\n",
    "\n",
    "# Modificar un valor existente\n",
    "mi_diccionario[\"edad\"] = 31\n",
    "\n",
    "# Eliminar un elemento del diccionario\n",
    "del mi_diccionario[\"ciudad\"]\n",
    "\n",
    "# Verificar si una clave existe en el diccionario\n",
    "if \"ciudad\" in mi_diccionario:\n",
    "    print(\"La clave 'ciudad' está en el diccionario.\")\n",
    "else:\n",
    "    print(\"La clave 'ciudad' no está en el diccionario.\")"
   ]
  },
  {
   "cell_type": "code",
   "execution_count": null,
   "id": "8eb9a3ab",
   "metadata": {},
   "outputs": [],
   "source": []
  }
 ],
 "metadata": {
  "kernelspec": {
   "display_name": "Python 3 (ipykernel)",
   "language": "python",
   "name": "python3"
  },
  "language_info": {
   "codemirror_mode": {
    "name": "ipython",
    "version": 3
   },
   "file_extension": ".py",
   "mimetype": "text/x-python",
   "name": "python",
   "nbconvert_exporter": "python",
   "pygments_lexer": "ipython3",
   "version": "3.11.5"
  }
 },
 "nbformat": 4,
 "nbformat_minor": 5
}
