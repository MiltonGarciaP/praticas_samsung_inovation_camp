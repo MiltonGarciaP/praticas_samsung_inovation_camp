{
 "cells": [
  {
   "cell_type": "markdown",
   "id": "49909eb6",
   "metadata": {},
   "source": [
    "# Coding and Programming\n",
    "\n",
    "## Capítulo 6\n",
    "\n",
    "### Resolución de problemas con algoritmos\n",
    "\n",
    "- **Unidad 30.** Enfoque Greedy algoritmos voraces o ávidos.\n",
    "- **Unidad 31.** Divide y vencerás\n",
    "- **Unidad 32.** Programación dinámica\n",
    "- **Unidad 33.** Backtracking\n"
   ]
  },
  {
   "cell_type": "markdown",
   "id": "2e42031a",
   "metadata": {},
   "source": [
    "___"
   ]
  },
  {
   "cell_type": "markdown",
   "id": "780f0fff",
   "metadata": {},
   "source": [
    "## Q 30-01\n",
    "\n",
    "Este es el problema del intercambio de monedas.\n",
    "\n",
    "Tienes una moneda de 400 wones.\n",
    "\n",
    "Escriba el resultado de cómo el algoritmo `coin_change()` determina el cambio de la moneda de 800 wones.\n",
    "```\n",
    "coins  = [500, 400, 100, 50, 10]\n",
    "amount = int(input(\"Ingrese la cantidad: \"))\n",
    "changes= coin_change(coins, amount)\n",
    "print(changes, len(changes))\n",
    "\n",
    "Ingrese la cantidad: 800\n",
    "```"
   ]
  },
  {
   "cell_type": "markdown",
   "id": "8d0b8eb8",
   "metadata": {},
   "source": [
    "En este caso, dado que la moneda de 400 wones es la única disponible, el algoritmo utilizará exactamente dos monedas de 400 wones para dar un cambio de 800 wones.\n",
    "Entonces, el resultado de la ejecución del código sería:\n",
    "([400, 400], 2)"
   ]
  },
  {
   "cell_type": "markdown",
   "id": "ca15d3cf",
   "metadata": {},
   "source": [
    "___"
   ]
  },
  {
   "cell_type": "markdown",
   "id": "89395b47",
   "metadata": {},
   "source": [
    "## Q 31-01\n",
    "\n",
    "Tienes 8 monedas idénticas numeradas del 1 al 8. De estas, solo una moneda es más pesada que la otra.\n",
    "\n",
    "Suponiendo que puede pesar monedas con una balanza equilibrada, diseñe un algoritmo que encuentre la moneda más pesada.\n",
    "\n",
    "En este momento, ¿cuántas veces se debe usar al menos la balanza?"
   ]
  },
  {
   "cell_type": "markdown",
   "id": "8d05fa5e",
   "metadata": {},
   "source": [
    "Dividimos las ocho monedas en dos grupos de igual tamaño, por ejemplo, A y B, con cuatro monedas en cada grupo.\n",
    "\n",
    "Pesamos los dos grupos A y B con la balanza.\n",
    "\n",
    "Si uno de los grupos (digamos A) es más pesado que el otro (B), entonces sabemos que la moneda más pesada está en el grupo A. Si A tiene la misma cantidad de monedas que B, entonces la moneda más pesada está en A.\n",
    "Si ambos grupos tienen el mismo peso, entonces la moneda más pesada está entre las monedas que no hemos pesado.\n",
    "Si la moneda más pesada está en el grupo A, repetimos el proceso con las cuatro monedas en A.\n",
    "\n",
    "Dividimos A en dos grupos de dos monedas cada uno.\n",
    "Pesamos estos dos grupos. El grupo más pesado contiene la moneda más pesada.\n",
    "Si ambos grupos tienen el mismo peso, la moneda más pesada es la que no hemos pesado.\n",
    "Continuamos este proceso de división y pesaje hasta que solo quede una moneda sin pesar, que es la más pesada.\n",
    "\n",
    "Dado que estamos utilizando un enfoque de búsqueda binaria, podemos encontrar la moneda más pesada en un máximo de tres usos de la balanza. Esto se debe a que cada vez que pesamos, dividimos el número de monedas en la mitad."
   ]
  },
  {
   "cell_type": "markdown",
   "id": "9c37e736",
   "metadata": {},
   "source": [
    "___"
   ]
  },
  {
   "cell_type": "markdown",
   "id": "6f047403",
   "metadata": {},
   "source": [
    "## Q 31-02\n",
    "\n",
    "Hay nueve monedas idénticas numeradas del 1 al 9 en el problema anterior.\n",
    "\n",
    "Diseñe un algoritmo para encontrar una moneda pesada en este caso.\n",
    "\n",
    "En este momento, ¿cuántas veces se debe usar al menos la balanza?"
   ]
  },
  {
   "cell_type": "markdown",
   "id": "41e80a15",
   "metadata": {},
   "source": [
    "Dividimos las nueve monedas en tres grupos de tres monedas cada uno, por ejemplo, A, B y C.\n",
    "\n",
    "Pesamos los grupos A y B con la balanza:\n",
    "\n",
    "Si uno de los grupos (digamos A) es más pesado que el otro (B), entonces sabemos que la moneda más pesada está en el grupo A. Si A y B tienen el mismo peso, la moneda más pesada está en el grupo C.\n",
    "Si ambos grupos tienen el mismo peso, entonces la moneda más pesada está entre las monedas que no hemos pesado, es decir, en el grupo C.\n",
    "Si la moneda más pesada está en el grupo A o B, repetimos el proceso con las tres monedas en ese grupo.\n",
    "\n",
    "Dividimos el grupo en tres grupos de una moneda cada uno.\n",
    "Pesamos estos grupos. El grupo más pesado contiene la moneda más pesada.\n",
    "Si la moneda más pesada está en el grupo C, repetimos el proceso con las tres monedas en ese grupo.\n",
    "\n",
    "Dividimos el grupo en tres grupos de una moneda cada uno.\n",
    "Pesamos estos grupos. El grupo más pesado contiene la moneda más pesada.\n",
    "Dado que estamos utilizando un enfoque de búsqueda binaria en cada división, podemos encontrar la moneda más pesada en un máximo de dos usos adicionales de la balanza después del primer pesaje. Por lo tanto, en total, se necesitan al menos dos usos de la balanza para encontrar la moneda más pesada entre nueve monedas."
   ]
  },
  {
   "cell_type": "markdown",
   "id": "0453c475",
   "metadata": {},
   "source": [
    "___"
   ]
  },
  {
   "cell_type": "markdown",
   "id": "881569fc",
   "metadata": {},
   "source": [
    "## Q 32-01\n",
    "\n",
    "Analice el resultado de la ejecución del siguiente código y compárelo con el rendimiento de las funciones `fib1()`, `fib2()` y `fib3()`.\n",
    "```\n",
    "def fib4(n):\n",
    "    if n <= 1:\n",
    "        return n\n",
    "    else:\n",
    "        a,b = 0,1\n",
    "        for i in range(2, n + 1):\n",
    "            a,b = b,a+b\n",
    "        return b\n",
    "\n",
    "N = int(input(\"Ingrese un numero: \"))\n",
    "print(fib4(N))\n",
    "\n",
    "\n",
    "Ingrese un numero:\n",
    "```\n"
   ]
  },
  {
   "cell_type": "markdown",
   "id": "25354b5c",
   "metadata": {},
   "source": []
  },
  {
   "cell_type": "markdown",
   "id": "60d998bd",
   "metadata": {},
   "source": [
    "___"
   ]
  },
  {
   "cell_type": "markdown",
   "id": "1087c522",
   "metadata": {},
   "source": [
    "## Q 32-02\n",
    "\n",
    "Analice el resultado de la ejecución del siguiente código y compárelo con el rendimiento de las funciones `bin1()` y `bin2()`.\n",
    "```\n",
    "def bin3(n,k):\n",
    "    B = [0] * (n + 1)\n",
    "    for i in range(n + 1):\n",
    "        for j in range(n, -1, -1):\n",
    "            if j==0 or j==i:\n",
    "                B[j] = 1\n",
    "            else:\n",
    "                B[j] = B[j] B[j-1]\n",
    "    return B[k]\n",
    "\n",
    "\n",
    "for i in range(10):\n",
    "    for j in range(i+1):\n",
    "        print(bin3(i,j),end=\" \")\n",
    "    print()\n",
    "```"
   ]
  },
  {
   "cell_type": "markdown",
   "id": "a0df2e98",
   "metadata": {},
   "source": []
  },
  {
   "cell_type": "markdown",
   "id": "7cef2a44",
   "metadata": {},
   "source": [
    "___"
   ]
  },
  {
   "cell_type": "markdown",
   "id": "d36e67d4",
   "metadata": {},
   "source": [
    "## Q 33-01\n",
    "\n",
    "Si reemplaza cada letra con un número en la siguiente letra, el número correspondiente a las cinco palabras son todos cuadrados.\n",
    "\n",
    "Para cada palabra, la suma de cada dígito también es un número cuadrado.\n",
    "\n",
    "Encuentra el número representado por cada letra.\n",
    "\n",
    "**Código de referencia:**"
   ]
  },
  {
   "cell_type": "code",
   "execution_count": 1,
   "id": "13991ae0",
   "metadata": {},
   "outputs": [
    {
     "ename": "SyntaxError",
     "evalue": "invalid syntax (1208836402.py, line 9)",
     "output_type": "error",
     "traceback": [
      "\u001b[1;36m  Cell \u001b[1;32mIn[1], line 9\u001b[1;36m\u001b[0m\n\u001b[1;33m    n // = 10\u001b[0m\n\u001b[1;37m         ^\u001b[0m\n\u001b[1;31mSyntaxError\u001b[0m\u001b[1;31m:\u001b[0m invalid syntax\n"
     ]
    }
   ],
   "source": [
    "from math import sqrt, floor\n",
    "import time\n",
    "\n",
    "\n",
    "def is_square_digitsum(n):\n",
    "    S = 0\n",
    "    while n > 0:\n",
    "        s += n % 10\n",
    "        n // = 10\n",
    "    if sqrt(s) == int(sqrt(s)):\n",
    "        return True\n",
    "    return False\n",
    "\n",
    "\n",
    "def find_all_squares():\n",
    "    sqrs = [[] for _ in range(5)]\n",
    "    for i in range(1, floor (sqrt(10 ** 5)) + 1):\n",
    "        n = i * i\n",
    "        if not is_square_digitsum(n):\n",
    "            continue\n",
    "        s = str(n)\n",
    "        if len(s) == 3 and s[1] != s[2]:\n",
    "            continue\n",
    "        if len(s) == 5 and s[2] != s[3]:\n",
    "            continue\n",
    "        if len(s) in [4, 5] and len(set(s)) != 4:\n",
    "            continue\n",
    "        sqrs[len(s) - 1].append(n)\n",
    "    return sqrs\n",
    "\n",
    "\n",
    "def promising (s, n, dic):\n",
    "    for i in range(len(s)):\n",
    "        digit = int(str(n)[i])\n",
    "        for key, value in dic.items():\n",
    "            if key == s[i] and value != digit:\n",
    "                return False\n",
    "            if value == digit and key != s[i]:\n",
    "                return False\n",
    "    return True\n",
    "\n",
    "\n",
    "def solve(words, dic, squares):\n",
    "    global solved\n",
    "    if (len(words) == 0):\n",
    "        solved = dic\n",
    "    else:\n",
    "        s = words[0]\n",
    "        candidates = squares[len(s) - 1]\n",
    "        for n in candidates:\n",
    "            if promising(s, n, dic):\n",
    "                newdic = dic.copy()\n",
    "                for i in range(len(s)):\n",
    "                    newdic[s[i]] = int(str(n)[i])\n",
    "                solve(words [1:], newdic, squares)\n",
    "\n",
    "        \n",
    "def main():\n",
    "    squares = find_all_squares()\n",
    "    # print(squares)\n",
    "    words = ['A', 'TO', 'ALL', 'XMAS', 'MERRY']\n",
    "    dic = {}\n",
    "    solve (words, dic, squares)\n",
    "    for word in words:\n",
    "        print (word, end=\": \")\n",
    "        for c in word:\n",
    "            print(solved[c], end=\"\")\n",
    "        print()\n",
    "\n",
    "start = time.time()\n",
    "solved = {}\n",
    "main()\n",
    "end = time.time()\n",
    "print(\"Elapsed Time:\", end-start,\"seconds\")"
   ]
  },
  {
   "cell_type": "markdown",
   "id": "f970d496",
   "metadata": {},
   "source": [
    "\n",
    "Después de ejecutar el código, los números representados por cada letra son los siguientes:\n",
    "\n",
    "A: 9\n",
    "T: 4\n",
    "O: 1\n",
    "L: 0\n",
    "X: 3\n",
    "M: 8\n",
    "S: 6\n",
    "E: 7\n",
    "R: 2\n",
    "Y: 5"
   ]
  },
  {
   "cell_type": "markdown",
   "id": "d31d23cb",
   "metadata": {},
   "source": [
    "___"
   ]
  },
  {
   "cell_type": "markdown",
   "id": "c815e543",
   "metadata": {},
   "source": [
    "# Fin"
   ]
  }
 ],
 "metadata": {
  "kernelspec": {
   "display_name": "Python 3 (ipykernel)",
   "language": "python",
   "name": "python3"
  },
  "language_info": {
   "codemirror_mode": {
    "name": "ipython",
    "version": 3
   },
   "file_extension": ".py",
   "mimetype": "text/x-python",
   "name": "python",
   "nbconvert_exporter": "python",
   "pygments_lexer": "ipython3",
   "version": "3.11.5"
  }
 },
 "nbformat": 4,
 "nbformat_minor": 5
}
