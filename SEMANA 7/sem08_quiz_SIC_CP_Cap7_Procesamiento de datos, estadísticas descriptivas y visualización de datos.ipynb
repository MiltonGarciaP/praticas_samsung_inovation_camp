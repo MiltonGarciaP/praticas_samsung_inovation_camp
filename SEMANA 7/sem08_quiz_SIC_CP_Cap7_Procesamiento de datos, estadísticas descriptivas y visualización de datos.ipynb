{
 "cells": [
  {
   "cell_type": "markdown",
   "id": "49909eb6",
   "metadata": {},
   "source": [
    "# Coding and Programming\n",
    "\n",
    "## Capítulo 7\n",
    "\n",
    "### Procesamiento de datos, estadísticas descriptivas y visualización de datos\n",
    "\n",
    "- **Unidad 34.** Uso de módulos de Python\n",
    "- **Unidad 35.** Serie de Pandas para el tratamiento de datos\n",
    "- **Unidad 36.** Pandas DataFrame para procesamiento de datos\n",
    "- **Unidad 37.** Ordenamiento de datos\n",
    "- **Unidad 38.** Datos de series temporales\n",
    "\n"
   ]
  },
  {
   "cell_type": "markdown",
   "id": "2e42031a",
   "metadata": {},
   "source": [
    "___"
   ]
  },
  {
   "cell_type": "markdown",
   "id": "780f0fff",
   "metadata": {},
   "source": [
    "## Q 34-01\n",
    "\n",
    "Convierta los siguientes datos del diccionario en un dataframe usando **Pandas**.\n",
    "\n",
    "(Denomina el dataframe `df`)\n",
    "\n",
    "`d = { 'col1':[1,2], 'col2':[3,4], 'col3':[5,6], 'col4':[7,8] }`"
   ]
  },
  {
   "cell_type": "code",
   "execution_count": 1,
   "id": "a4767f93",
   "metadata": {},
   "outputs": [
    {
     "name": "stdout",
     "output_type": "stream",
     "text": [
      "   col1  col2  col3  col4\n",
      "0     1     3     5     7\n",
      "1     2     4     6     8\n"
     ]
    }
   ],
   "source": [
    "import pandas as pd\n",
    "\n",
    "\n",
    "d = {'col1': [1, 2], 'col2': [3, 4], 'col3': [5, 6], 'col4': [7, 8]}\n",
    "\n",
    "df = pd.DataFrame(d)\n",
    "\n",
    "\n",
    "print(df)\n"
   ]
  },
  {
   "cell_type": "markdown",
   "id": "f77a6a5c",
   "metadata": {},
   "source": [
    "___"
   ]
  },
  {
   "cell_type": "markdown",
   "id": "89395b47",
   "metadata": {},
   "source": [
    "## Q 35-01\n",
    "\n",
    "En el marco de datos creado en la pregunta **Q 34-01**, cree un nuevo dataframe que consista solo en los datos de la columna con el nombre de columna `'col4'`.\n",
    "\n",
    "(Denomina el dataframe `new_df`)\n"
   ]
  },
  {
   "cell_type": "code",
   "execution_count": 2,
   "id": "640c1a44",
   "metadata": {},
   "outputs": [
    {
     "name": "stdout",
     "output_type": "stream",
     "text": [
      "   col4\n",
      "0     7\n",
      "1     8\n"
     ]
    }
   ],
   "source": [
    "\n",
    "new_df = df[['col4']].copy()\n",
    "\n",
    "\n",
    "print(new_df)\n"
   ]
  },
  {
   "cell_type": "markdown",
   "id": "4b5b87cd",
   "metadata": {},
   "source": [
    "___"
   ]
  },
  {
   "cell_type": "markdown",
   "id": "881569fc",
   "metadata": {},
   "source": [
    "## Q 36-01\n",
    "\n",
    "El índice del dataframe creado en la pregunta **Q 34-01** es `0` y `1`.\n",
    "\n",
    "Escriba un comando para cambiar el nombre de estos índices a `primero` y `segundo`."
   ]
  },
  {
   "cell_type": "code",
   "execution_count": 3,
   "id": "f14a7241",
   "metadata": {},
   "outputs": [
    {
     "name": "stdout",
     "output_type": "stream",
     "text": [
      "         col4\n",
      "primero     7\n",
      "segundo     8\n"
     ]
    }
   ],
   "source": [
    "\n",
    "new_df = new_df.rename(index={0: 'primero', 1: 'segundo'})\n",
    "\n",
    "\n",
    "print(new_df)\n"
   ]
  },
  {
   "cell_type": "markdown",
   "id": "8e7a5d3b",
   "metadata": {},
   "source": [
    "___"
   ]
  },
  {
   "cell_type": "markdown",
   "id": "1087c522",
   "metadata": {},
   "source": [
    "## Q 37-01\n",
    "\n",
    "Escriba un comando para buscar datos faltantes en el dataframe `df` creado en la pregunta **Q 34-01** e imprima el resultado.\n",
    "\n",
    "(Sin embargo, los datos que faltan deben devolverse como verdaderos)."
   ]
  },
  {
   "cell_type": "code",
   "execution_count": 4,
   "id": "2695f118",
   "metadata": {},
   "outputs": [
    {
     "name": "stdout",
     "output_type": "stream",
     "text": [
      "col1    False\n",
      "col2    False\n",
      "col3    False\n",
      "col4    False\n",
      "dtype: bool\n"
     ]
    }
   ],
   "source": [
    "\n",
    "missing_data = df.isna().any()\n",
    "\n",
    "print(missing_data)\n"
   ]
  },
  {
   "cell_type": "markdown",
   "id": "ab5e3562",
   "metadata": {},
   "source": [
    "___"
   ]
  },
  {
   "cell_type": "markdown",
   "id": "e060ee29",
   "metadata": {},
   "source": [
    "## Q 38-01\n",
    "\n",
    "Escriba un comando para verificar el resumen de las estadísticas descriptivas (desviación estándar, valor mínimo, moda, etc.) del dataframe `df` creado en la pregunta **Q 34-01** e imprima el resultado."
   ]
  },
  {
   "cell_type": "code",
   "execution_count": 5,
   "id": "c67b8cc7",
   "metadata": {},
   "outputs": [
    {
     "name": "stdout",
     "output_type": "stream",
     "text": [
      "           col1      col2      col3      col4\n",
      "count  2.000000  2.000000  2.000000  2.000000\n",
      "mean   1.500000  3.500000  5.500000  7.500000\n",
      "std    0.707107  0.707107  0.707107  0.707107\n",
      "min    1.000000  3.000000  5.000000  7.000000\n",
      "25%    1.250000  3.250000  5.250000  7.250000\n",
      "50%    1.500000  3.500000  5.500000  7.500000\n",
      "75%    1.750000  3.750000  5.750000  7.750000\n",
      "max    2.000000  4.000000  6.000000  8.000000\n"
     ]
    }
   ],
   "source": [
    "\n",
    "summary_stats = df.describe()\n",
    "\n",
    "\n",
    "print(summary_stats)\n"
   ]
  },
  {
   "cell_type": "markdown",
   "id": "84a390f6",
   "metadata": {},
   "source": [
    "___"
   ]
  },
  {
   "cell_type": "markdown",
   "id": "23d7b61e",
   "metadata": {},
   "source": [
    "# Fin"
   ]
  }
 ],
 "metadata": {
  "kernelspec": {
   "display_name": "Python 3 (ipykernel)",
   "language": "python",
   "name": "python3"
  },
  "language_info": {
   "codemirror_mode": {
    "name": "ipython",
    "version": 3
   },
   "file_extension": ".py",
   "mimetype": "text/x-python",
   "name": "python",
   "nbconvert_exporter": "python",
   "pygments_lexer": "ipython3",
   "version": "3.11.5"
  }
 },
 "nbformat": 4,
 "nbformat_minor": 5
}
